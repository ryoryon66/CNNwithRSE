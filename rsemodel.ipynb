{
 "cells": [
  {
   "cell_type": "markdown",
   "id": "4cc33d8b",
   "metadata": {
    "id": "lW0k3arS7u_w",
    "papermill": {
     "duration": 0.006425,
     "end_time": "2022-12-07T00:01:17.469403",
     "exception": false,
     "start_time": "2022-12-07T00:01:17.462978",
     "status": "completed"
    },
    "tags": []
   },
   "source": [
    "# RSE(Random Self-Ensemble)によるFGSM attackへの防衛の検証\n",
    "\n"
   ]
  },
  {
   "cell_type": "markdown",
   "id": "c7809cb2",
   "metadata": {
    "id": "CljeJHmz8ApB",
    "papermill": {
     "duration": 0.004624,
     "end_time": "2022-12-07T00:01:17.479177",
     "exception": false,
     "start_time": "2022-12-07T00:01:17.474553",
     "status": "completed"
    },
    "tags": []
   },
   "source": [
    "## 準備"
   ]
  },
  {
   "cell_type": "code",
   "execution_count": 1,
   "id": "d4294884",
   "metadata": {
    "execution": {
     "iopub.execute_input": "2022-12-07T00:01:17.491467Z",
     "iopub.status.busy": "2022-12-07T00:01:17.490616Z",
     "iopub.status.idle": "2022-12-07T00:01:19.425647Z",
     "shell.execute_reply": "2022-12-07T00:01:19.424528Z"
    },
    "id": "spDVp79YjSX-",
    "papermill": {
     "duration": 1.944734,
     "end_time": "2022-12-07T00:01:19.428847",
     "exception": false,
     "start_time": "2022-12-07T00:01:17.484113",
     "status": "completed"
    },
    "tags": []
   },
   "outputs": [],
   "source": [
    "# import pytorch and other libraries\n",
    "import torch\n",
    "import torch.nn as nn\n",
    "import torch.nn.functional as F\n",
    "import torch.optim as optim\n",
    "import numpy as np\n",
    "import matplotlib.pyplot as plt\n",
    "import torchvision\n",
    "import torchvision.transforms as transforms\n",
    "\n"
   ]
  },
  {
   "cell_type": "code",
   "execution_count": 2,
   "id": "a6eaa591",
   "metadata": {
    "execution": {
     "iopub.execute_input": "2022-12-07T00:01:19.446533Z",
     "iopub.status.busy": "2022-12-07T00:01:19.445990Z",
     "iopub.status.idle": "2022-12-07T00:01:26.554928Z",
     "shell.execute_reply": "2022-12-07T00:01:26.553930Z"
    },
    "id": "lXr9rlmfjSYA",
    "outputId": "648d4f5a-28d3-4efd-81fe-76032d692044",
    "papermill": {
     "duration": 7.120368,
     "end_time": "2022-12-07T00:01:26.557279",
     "exception": false,
     "start_time": "2022-12-07T00:01:19.436911",
     "status": "completed"
    },
    "tags": []
   },
   "outputs": [
    {
     "name": "stdout",
     "output_type": "stream",
     "text": [
      "Downloading https://www.cs.toronto.edu/~kriz/cifar-10-python.tar.gz to ./data/cifar-10-python.tar.gz\n"
     ]
    },
    {
     "data": {
      "application/vnd.jupyter.widget-view+json": {
       "model_id": "cd47fc3d1f604c5598bb69c31039e3e5",
       "version_major": 2,
       "version_minor": 0
      },
      "text/plain": [
       "  0%|          | 0/170498071 [00:00<?, ?it/s]"
      ]
     },
     "metadata": {},
     "output_type": "display_data"
    },
    {
     "name": "stdout",
     "output_type": "stream",
     "text": [
      "Extracting ./data/cifar-10-python.tar.gz to ./data\n",
      "Files already downloaded and verified\n"
     ]
    }
   ],
   "source": [
    "# download CIFAR-10 dataset\n",
    "\n",
    "\n",
    "\n",
    "transform = transforms.Compose(\n",
    "    [transforms.ToTensor(),\n",
    "#      transforms.Normalize((0.5, 0.5, 0.5), (0.5, 0.5, 0.5))\n",
    "    ]\n",
    ")\n",
    "\n",
    "batch_size = 512\n",
    "\n",
    "trainvalset = torchvision.datasets.CIFAR10(root='./data', train=True,\n",
    "                                        download=True, transform=transform)\n",
    "\n",
    "\n",
    "train_size = int(len(trainvalset) * 0.8) \n",
    "val_size = len(trainvalset) - train_size \n",
    "\n",
    "\n",
    "trainset, valset = torch.utils.data.random_split(trainvalset, [train_size, val_size])\n",
    "\n",
    "trainloader = torch.utils.data.DataLoader(trainset, batch_size=batch_size,\n",
    "                                          shuffle=True, num_workers=2)\n",
    "\n",
    "valloader = torch.utils.data.DataLoader(valset, batch_size=batch_size,\n",
    "                                            shuffle=False, num_workers=2)\n",
    "\n",
    "\n",
    "testset = torchvision.datasets.CIFAR10(root='./data', train=False,\n",
    "                                       download=True, transform=transform)\n",
    "testloader = torch.utils.data.DataLoader(testset, batch_size=batch_size,\n",
    "                                         shuffle=False, num_workers=2)\n",
    "\n"
   ]
  },
  {
   "cell_type": "markdown",
   "id": "c4323f5d",
   "metadata": {
    "id": "OSbasGwJ8MbO",
    "papermill": {
     "duration": 0.005396,
     "end_time": "2022-12-07T00:01:26.568156",
     "exception": false,
     "start_time": "2022-12-07T00:01:26.562760",
     "status": "completed"
    },
    "tags": []
   },
   "source": [
    "## 対策なしのモデル"
   ]
  },
  {
   "cell_type": "code",
   "execution_count": 3,
   "id": "99a0fa31",
   "metadata": {
    "execution": {
     "iopub.execute_input": "2022-12-07T00:01:26.581473Z",
     "iopub.status.busy": "2022-12-07T00:01:26.579662Z",
     "iopub.status.idle": "2022-12-07T00:01:26.593159Z",
     "shell.execute_reply": "2022-12-07T00:01:26.592244Z"
    },
    "id": "ueseR9CqjSYC",
    "papermill": {
     "duration": 0.021899,
     "end_time": "2022-12-07T00:01:26.595184",
     "exception": false,
     "start_time": "2022-12-07T00:01:26.573285",
     "status": "completed"
    },
    "tags": []
   },
   "outputs": [],
   "source": [
    "# ニューラルネットワークの定義\n",
    "\n",
    "class Net(nn.Module):\n",
    "    def __init__(self):\n",
    "        super(Net, self).__init__()\n",
    "        self.conv1 = nn.Conv2d(3, 32, 3, padding='same')\n",
    "        self.conv2 = nn.Conv2d(32, 32, 3, padding='same')\n",
    "        self.conv3 = nn.Conv2d(32, 64, 3, padding='same')\n",
    "        self.conv4 = nn.Conv2d(64, 64, 3, padding='same')\n",
    "        self.bn1 = nn.BatchNorm2d(64)\n",
    "        self.conv5 = nn.Conv2d(64, 128, 3, padding='same')\n",
    "        self.conv6 = nn.Conv2d(128, 128, 3, padding='same')\n",
    "        self.conv7 = nn.Conv2d(128, 256, 3, padding='same')\n",
    "        self.conv8 = nn.Conv2d(256, 512, 3, padding='same')\n",
    "        self.bn2 = nn.BatchNorm2d(512)\n",
    "\n",
    "        self.fc1 = nn.Linear(512 * 2 * 2, 512)\n",
    "        self.fc2 = nn.Linear(512, 10)\n",
    "\n",
    "        return \n",
    "\n",
    "    def forward(self,x):\n",
    "        x = F.relu(self.conv1(x))\n",
    "        x = F.relu(self.conv2(x))\n",
    "        x = F.max_pool2d(x, 2)\n",
    "        x = F.relu(self.conv3(x))\n",
    "        x = self.conv4(x)\n",
    "        x = self.bn1(x)\n",
    "        x = F.relu(x) \n",
    "        x = F.max_pool2d(x, 2)\n",
    "        x = F.relu(self.conv5(x))\n",
    "        x = F.relu(self.conv6(x))\n",
    "        x = F.max_pool2d(x, 2)\n",
    "        x = F.relu(self.conv7(x))\n",
    "        x = (self.conv8(x))\n",
    "        x = self.bn2(x)\n",
    "        x = F.relu(x)\n",
    "        x = F.max_pool2d(x, 2)\n",
    "        x = nn.Flatten()(x)\n",
    "        x = self.fc1(x)\n",
    "        x = F.relu(x)\n",
    "        x = self.fc2(x)\n",
    "        return x\n",
    "    \n",
    "    def predict(self,x,n=1):\n",
    "        x = self.forward(x)\n",
    "        return torch.argmax(x, dim=1)\n"
   ]
  },
  {
   "cell_type": "code",
   "execution_count": 4,
   "id": "1b238ba3",
   "metadata": {
    "execution": {
     "iopub.execute_input": "2022-12-07T00:01:26.607017Z",
     "iopub.status.busy": "2022-12-07T00:01:26.606720Z",
     "iopub.status.idle": "2022-12-07T00:06:59.942426Z",
     "shell.execute_reply": "2022-12-07T00:06:59.941269Z"
    },
    "id": "nyaa_QknjSYC",
    "outputId": "c30a95c7-08d0-47b0-d0fe-05ac6e78e045",
    "papermill": {
     "duration": 333.344344,
     "end_time": "2022-12-07T00:06:59.944808",
     "exception": false,
     "start_time": "2022-12-07T00:01:26.600464",
     "status": "completed"
    },
    "tags": []
   },
   "outputs": [
    {
     "name": "stdout",
     "output_type": "stream",
     "text": [
      "2817706\n",
      "device cuda:0\n",
      "epoch: 1, train_loss: 1.6471, train_acc: 0.3868, val_loss: 1.3192, val_acc: 0.5225\n",
      "epoch: 2, train_loss: 1.1352, train_acc: 0.5892, val_loss: 1.0512, val_acc: 0.6187\n",
      "epoch: 3, train_loss: 0.8865, train_acc: 0.6834, val_loss: 0.8858, val_acc: 0.6846\n",
      "epoch: 4, train_loss: 0.7255, train_acc: 0.7431, val_loss: 0.7595, val_acc: 0.7310\n",
      "epoch: 5, train_loss: 0.5954, train_acc: 0.7913, val_loss: 0.7415, val_acc: 0.7399\n",
      "epoch: 6, train_loss: 0.4787, train_acc: 0.8313, val_loss: 0.7104, val_acc: 0.7594\n",
      "epoch: 7, train_loss: 0.3750, train_acc: 0.8688, val_loss: 0.7485, val_acc: 0.7586\n",
      "epoch: 8, train_loss: 0.2954, train_acc: 0.8974, val_loss: 0.8131, val_acc: 0.7554\n",
      "epoch: 9, train_loss: 0.1982, train_acc: 0.9326, val_loss: 0.8134, val_acc: 0.7677\n",
      "epoch: 10, train_loss: 0.1386, train_acc: 0.9540, val_loss: 0.9026, val_acc: 0.7743\n",
      "epoch: 11, train_loss: 0.1201, train_acc: 0.9586, val_loss: 0.9095, val_acc: 0.7743\n",
      "epoch: 12, train_loss: 0.0873, train_acc: 0.9700, val_loss: 0.9954, val_acc: 0.7677\n",
      "epoch: 13, train_loss: 0.1009, train_acc: 0.9653, val_loss: 0.9702, val_acc: 0.7743\n",
      "epoch: 14, train_loss: 0.0607, train_acc: 0.9797, val_loss: 1.0636, val_acc: 0.7738\n",
      "epoch: 15, train_loss: 0.0521, train_acc: 0.9826, val_loss: 1.0072, val_acc: 0.7864\n",
      "epoch: 16, train_loss: 0.0261, train_acc: 0.9921, val_loss: 1.0703, val_acc: 0.7898\n",
      "epoch: 17, train_loss: 0.0141, train_acc: 0.9966, val_loss: 1.0659, val_acc: 0.7931\n",
      "epoch: 18, train_loss: 0.0039, train_acc: 0.9995, val_loss: 1.0862, val_acc: 0.7962\n",
      "epoch: 19, train_loss: 0.0009, train_acc: 1.0000, val_loss: 1.0735, val_acc: 0.8016\n",
      "epoch: 20, train_loss: 0.0004, train_acc: 1.0000, val_loss: 1.0837, val_acc: 0.8025\n",
      "epoch: 21, train_loss: 0.0003, train_acc: 1.0000, val_loss: 1.0936, val_acc: 0.8033\n",
      "epoch: 22, train_loss: 0.0003, train_acc: 1.0000, val_loss: 1.1002, val_acc: 0.8032\n",
      "epoch: 23, train_loss: 0.0002, train_acc: 1.0000, val_loss: 1.1078, val_acc: 0.8029\n",
      "epoch: 24, train_loss: 0.0002, train_acc: 1.0000, val_loss: 1.1150, val_acc: 0.8027\n",
      "epoch: 25, train_loss: 0.0002, train_acc: 1.0000, val_loss: 1.1209, val_acc: 0.8036\n",
      "epoch: 26, train_loss: 0.0002, train_acc: 1.0000, val_loss: 1.1273, val_acc: 0.8035\n",
      "epoch: 27, train_loss: 0.0001, train_acc: 1.0000, val_loss: 1.1330, val_acc: 0.8031\n",
      "epoch: 28, train_loss: 0.0001, train_acc: 1.0000, val_loss: 1.1381, val_acc: 0.8035\n",
      "epoch: 29, train_loss: 0.0001, train_acc: 1.0000, val_loss: 1.1440, val_acc: 0.8031\n",
      "epoch: 30, train_loss: 0.0001, train_acc: 1.0000, val_loss: 1.1507, val_acc: 0.8040\n",
      "epoch: 31, train_loss: 0.0001, train_acc: 1.0000, val_loss: 1.1555, val_acc: 0.8039\n",
      "epoch: 32, train_loss: 0.0001, train_acc: 1.0000, val_loss: 1.1605, val_acc: 0.8039\n",
      "epoch: 33, train_loss: 0.0001, train_acc: 1.0000, val_loss: 1.1665, val_acc: 0.8042\n",
      "epoch: 34, train_loss: 0.0001, train_acc: 1.0000, val_loss: 1.1707, val_acc: 0.8041\n",
      "epoch: 35, train_loss: 0.0001, train_acc: 1.0000, val_loss: 1.1760, val_acc: 0.8036\n",
      "epoch: 36, train_loss: 0.0001, train_acc: 1.0000, val_loss: 1.1801, val_acc: 0.8048\n",
      "epoch: 37, train_loss: 0.0001, train_acc: 1.0000, val_loss: 1.1848, val_acc: 0.8048\n",
      "epoch: 38, train_loss: 0.0001, train_acc: 1.0000, val_loss: 1.1888, val_acc: 0.8045\n",
      "epoch: 39, train_loss: 0.0001, train_acc: 1.0000, val_loss: 1.1942, val_acc: 0.8048\n",
      "epoch: 40, train_loss: 0.0001, train_acc: 1.0000, val_loss: 1.1986, val_acc: 0.8041\n",
      "Finished Training\n"
     ]
    },
    {
     "data": {
      "image/png": "[encoded data removed]",
      "text/plain": [
       "<Figure size 432x288 with 1 Axes>"
      ]
     },
     "metadata": {
      "needs_background": "light"
     },
     "output_type": "display_data"
    },
    {
     "data": {
      "image/png": "[encoded data removed]",
      "text/plain": [
       "<Figure size 432x288 with 1 Axes>"
      ]
     },
     "metadata": {
      "needs_background": "light"
     },
     "output_type": "display_data"
    }
   ],
   "source": [
    "# モデルの定義\n",
    "model = Net()\n",
    "\n",
    "\n",
    "count_params = 0\n",
    "for p in model.parameters():\n",
    "    if p.requires_grad:\n",
    "        count_params += p.numel()\n",
    "        \n",
    "print(count_params)  \n",
    "\n",
    "# gpuを使う場合\n",
    "device = torch.device(\"cuda:0\" if torch.cuda.is_available() else \"cpu\")\n",
    "print(\"device\",device)\n",
    "model.to(device)\n",
    "\n",
    "# 損失関数の定義\n",
    "criterion = nn.CrossEntropyLoss()\n",
    "\n",
    "# 最適化手法の定義\n",
    "optimizer = optim.Adam(model.parameters(), lr=0.0005)\n",
    "\n",
    "train_loss_list = []\n",
    "train_acc_list = []\n",
    "val_loss_list = []\n",
    "val_acc_list = []\n",
    "\n",
    "epochs = 40\n",
    "\n",
    "# 学習\n",
    "for epoch in range(epochs):  # loop over the dataset multiple times\n",
    "\n",
    "    num_train_correct = 0\n",
    "    train_loss = 0.0\n",
    "\n",
    "    for inputs, labels in trainloader:\n",
    "\n",
    "        # gpuを使う場合\n",
    "        inputs, labels = inputs.to(device), labels.to(device)\n",
    "\n",
    "        # zero the parameter gradients\n",
    "        optimizer.zero_grad()\n",
    "\n",
    "        # forward + backward + optimize\n",
    "\n",
    "        outputs = model(inputs)\n",
    "        loss = criterion(outputs, labels)\n",
    "        loss.backward()\n",
    "\n",
    "        predicted_label = torch.argmax(outputs, dim=1)\n",
    "        num_train_correct += torch.sum(predicted_label == labels).item()\n",
    "        train_loss += loss.item() * inputs.size(0)\n",
    "\n",
    "        optimizer.step()\n",
    "    \n",
    "    train_loss = train_loss / len(trainset)\n",
    "    train_acc = num_train_correct / len(trainset)\n",
    "    train_loss_list.append(train_loss)\n",
    "    train_acc_list.append(train_acc)\n",
    "\n",
    "    num_val_correct = 0\n",
    "    val_loss = 0.0\n",
    "\n",
    "    with torch.no_grad():\n",
    "        for inputs, labels in valloader:\n",
    "\n",
    "            # gpuを使う場合\n",
    "            inputs, labels = inputs.to(device), labels.to(device)\n",
    "\n",
    "            outputs = model(inputs)\n",
    "            loss = criterion(outputs, labels)\n",
    "\n",
    "            predicted_label = torch.argmax(outputs, dim=1)\n",
    "            num_val_correct += torch.sum(predicted_label == labels).item()\n",
    "            val_loss += loss.item() * inputs.size(0)\n",
    "    \n",
    "    val_loss = val_loss / len(valset)\n",
    "    val_acc = num_val_correct / len(valset)\n",
    "    val_loss_list.append(val_loss)\n",
    "    val_acc_list.append(val_acc)\n",
    "    \n",
    "\n",
    "    print('epoch: {}, train_loss: {:.4f}, train_acc: {:.4f}, val_loss: {:.4f}, val_acc: {:.4f}'.format(epoch+1, train_loss, train_acc, val_loss, val_acc))\n",
    "\n",
    "print('Finished Training')\n",
    "\n",
    "# lossの推移を可視化\n",
    "plt.plot(train_loss_list, label='train_loss')\n",
    "plt.plot(val_loss_list, label='val_loss')\n",
    "\n",
    "plt.legend()\n",
    "plt.show()\n",
    "\n",
    "# accの推移を可視化\n",
    "plt.plot(train_acc_list, label='train_acc')\n",
    "plt.plot(val_acc_list, label='val_acc')\n",
    "\n",
    "plt.legend()\n",
    "plt.show()\n",
    "\n",
    "\n",
    "\n",
    "\n",
    "\n"
   ]
  },
  {
   "cell_type": "markdown",
   "id": "c3ed7069",
   "metadata": {
    "id": "vZHnhQSb8UWQ",
    "papermill": {
     "duration": 0.008138,
     "end_time": "2022-12-07T00:06:59.961709",
     "exception": false,
     "start_time": "2022-12-07T00:06:59.953571",
     "status": "completed"
    },
    "tags": []
   },
   "source": [
    "## FGSMを無対策モデルに行う"
   ]
  },
  {
   "cell_type": "code",
   "execution_count": 5,
   "id": "2a25d79d",
   "metadata": {
    "execution": {
     "iopub.execute_input": "2022-12-07T00:06:59.979782Z",
     "iopub.status.busy": "2022-12-07T00:06:59.979016Z",
     "iopub.status.idle": "2022-12-07T00:06:59.988680Z",
     "shell.execute_reply": "2022-12-07T00:06:59.987813Z"
    },
    "id": "dxVuCzXCjSYD",
    "papermill": {
     "duration": 0.021026,
     "end_time": "2022-12-07T00:06:59.990742",
     "exception": false,
     "start_time": "2022-12-07T00:06:59.969716",
     "status": "completed"
    },
    "tags": []
   },
   "outputs": [],
   "source": [
    "class FGSM():\n",
    "    def __init__(self, model, criterion, eps=0.03):\n",
    "        self.model = model\n",
    "        self.criterion = criterion\n",
    "        self.eps = eps\n",
    "\n",
    "    def generate(self, inputs, labels):\n",
    "        inputs.requires_grad = True\n",
    "        outputs = self.model(inputs)\n",
    "        loss = self.criterion(outputs, labels)\n",
    "        loss.backward()\n",
    "        inputs_grad = inputs.grad.data\n",
    "        perturbed_inputs = inputs + self.eps * inputs_grad.sign()\n",
    "        perturbed_inputs = torch.clamp(perturbed_inputs, 0, 1)\n",
    "        return perturbed_inputs\n",
    "    \n",
    "    def evaluate(self,val_dataloader,n=10):\n",
    "        num_correct = 0\n",
    "        num_total = 0\n",
    "\n",
    "        for inputs, labels in val_dataloader:\n",
    "            inputs, labels = inputs.to(device), labels.to(device)\n",
    "            perturbed_inputs = self.generate(inputs, labels)\n",
    "            predicted_label = self.model.predict(perturbed_inputs,n=n)\n",
    "            num_correct += torch.sum(predicted_label == labels).item()\n",
    "            num_total += len(inputs)\n",
    "\n",
    "        return num_correct / num_total"
   ]
  },
  {
   "cell_type": "code",
   "execution_count": 6,
   "id": "2c44e924",
   "metadata": {
    "execution": {
     "iopub.execute_input": "2022-12-07T00:07:00.009611Z",
     "iopub.status.busy": "2022-12-07T00:07:00.007967Z",
     "iopub.status.idle": "2022-12-07T00:07:00.664190Z",
     "shell.execute_reply": "2022-12-07T00:07:00.663266Z"
    },
    "id": "2JgvOiFZoeC4",
    "outputId": "ea4d93b8-ff8b-4dda-e4a3-a5147b13ff7b",
    "papermill": {
     "duration": 0.668095,
     "end_time": "2022-12-07T00:07:00.666960",
     "exception": false,
     "start_time": "2022-12-07T00:06:59.998865",
     "status": "completed"
    },
    "tags": []
   },
   "outputs": [
    {
     "data": {
      "image/png": "[encoded data removed]",
      "text/plain": [
       "<Figure size 720x720 with 9 Axes>"
      ]
     },
     "metadata": {
      "needs_background": "light"
     },
     "output_type": "display_data"
    }
   ],
   "source": [
    "# FGSMの実行\n",
    "fgsm = FGSM(model, criterion,0.05)\n",
    "perturbed_inputs = fgsm.generate(inputs, labels)\n",
    "\n",
    "classes = ('plane', 'car', 'bird', 'cat',\n",
    "              'deer', 'dog', 'frog', 'horse', 'ship', 'truck')  \n",
    "\n",
    "# 画像の可視化\n",
    "fig = plt.figure(figsize=(10, 10))\n",
    "for i in range(9):\n",
    "    ax = fig.add_subplot(3, 3, i+1)\n",
    "    ax.imshow(perturbed_inputs[i].cpu().detach().numpy().transpose(1, 2, 0))\n",
    "    # 予測されたラベルを表示\n",
    "    ax.set_title(('predicted: {}'.format(classes[torch.argmax(model(perturbed_inputs[i].unsqueeze(0).to(device)), dim=1).item()]) +\n",
    "    '\\nlabel: {}'.format(classes[labels[i].item()])))\n",
    "    ax.axis('off')\n",
    "plt.show()"
   ]
  },
  {
   "cell_type": "code",
   "execution_count": 7,
   "id": "bccfae64",
   "metadata": {
    "execution": {
     "iopub.execute_input": "2022-12-07T00:07:00.693964Z",
     "iopub.status.busy": "2022-12-07T00:07:00.693507Z",
     "iopub.status.idle": "2022-12-07T00:07:04.033088Z",
     "shell.execute_reply": "2022-12-07T00:07:04.031976Z"
    },
    "id": "8LbjQRBtpZNO",
    "outputId": "92c269e5-f6ad-42e0-82fa-200afb737ab5",
    "papermill": {
     "duration": 3.355574,
     "end_time": "2022-12-07T00:07:04.035269",
     "exception": false,
     "start_time": "2022-12-07T00:07:00.679695",
     "status": "completed"
    },
    "tags": []
   },
   "outputs": [
    {
     "name": "stdout",
     "output_type": "stream",
     "text": [
      "adv accuracy: 0.1985\n",
      "normal accuracy: 0.7953\n"
     ]
    }
   ],
   "source": [
    "# fgsmにたいする耐性の評価\n",
    "print('adv accuracy: {:.4f}'.format(fgsm.evaluate(testloader)))\n",
    "\n",
    "# testデータに対する精度の評価\n",
    "num_correct = 0\n",
    "num_total = 0\n",
    "\n",
    "for inputs, labels in testloader:\n",
    "    inputs, labels = inputs.to(device), labels.to(device)\n",
    "    predicted_label = model.predict(inputs)\n",
    "    num_correct += torch.sum(predicted_label == labels).item()\n",
    "    num_total += len(inputs)\n",
    "\n",
    "print('normal accuracy: {:.4f}'.format(num_correct / num_total))\n"
   ]
  },
  {
   "cell_type": "code",
   "execution_count": null,
   "id": "cdb75e72",
   "metadata": {
    "id": "dAETsIjapK8L",
    "papermill": {
     "duration": 0.008356,
     "end_time": "2022-12-07T00:07:04.052266",
     "exception": false,
     "start_time": "2022-12-07T00:07:04.043910",
     "status": "completed"
    },
    "tags": []
   },
   "outputs": [],
   "source": []
  },
  {
   "cell_type": "markdown",
   "id": "f69432d8",
   "metadata": {
    "id": "xfTvHXnw0bcF",
    "papermill": {
     "duration": 0.008248,
     "end_time": "2022-12-07T00:07:04.068753",
     "exception": false,
     "start_time": "2022-12-07T00:07:04.060505",
     "status": "completed"
    },
    "tags": []
   },
   "source": [
    "# RSE model"
   ]
  },
  {
   "cell_type": "code",
   "execution_count": 8,
   "id": "6d09fa92",
   "metadata": {
    "execution": {
     "iopub.execute_input": "2022-12-07T00:07:04.087820Z",
     "iopub.status.busy": "2022-12-07T00:07:04.087158Z",
     "iopub.status.idle": "2022-12-07T00:07:04.104588Z",
     "shell.execute_reply": "2022-12-07T00:07:04.103699Z"
    },
    "id": "9B0VwZPf0crT",
    "papermill": {
     "duration": 0.02986,
     "end_time": "2022-12-07T00:07:04.107000",
     "exception": false,
     "start_time": "2022-12-07T00:07:04.077140",
     "status": "completed"
    },
    "tags": []
   },
   "outputs": [],
   "source": [
    "# ニューラルネットワークの定義\n",
    "\n",
    "class NoiseLayer(nn.Module):\n",
    "    def __init__(self, sigma):\n",
    "        super(NoiseLayer, self).__init__()\n",
    "        self.sigma = sigma\n",
    "\n",
    "    def forward(self, x):\n",
    "        noise = torch.randn_like(x) * self.sigma\n",
    "        return x + noise #クリッピングかなと思ったけど論文には書いてないのと誤差逆のこともあるしちがうか\n",
    "        \n",
    "\n",
    "\n",
    "\n",
    "class RSENet(nn.Module):\n",
    "    def __init__(self,init_sigma=0.2,other_sigma=0.1):\n",
    "        super().__init__()\n",
    "\n",
    "        self.init_noise = NoiseLayer(init_sigma)\n",
    "        self.other_noise = NoiseLayer(other_sigma)\n",
    "\n",
    "        self.conv1 = nn.Conv2d(3, 32, 3, padding='same')\n",
    "        self.conv2 = nn.Conv2d(32, 32, 3, padding='same')\n",
    "        self.conv3 = nn.Conv2d(32, 64, 3, padding='same')\n",
    "        self.conv4 = nn.Conv2d(64, 64, 3, padding='same')\n",
    "        self.bn1 = nn.BatchNorm2d(64)\n",
    "        self.conv5 = nn.Conv2d(64, 128, 3, padding='same')\n",
    "        self.conv6 = nn.Conv2d(128, 128, 3, padding='same')\n",
    "        self.conv7 = nn.Conv2d(128, 256, 3, padding='same')\n",
    "        self.conv8 = nn.Conv2d(256, 512, 3, padding='same')\n",
    "        self.bn2 = nn.BatchNorm2d(512)\n",
    "\n",
    "        self.fc1 = nn.Linear(512 * 2 * 2, 512)\n",
    "        self.fc2 = nn.Linear(512, 10)\n",
    "\n",
    "        return \n",
    "\n",
    "    def forward(self,x):\n",
    "        x = self.init_noise(x)\n",
    "        x = F.relu(self.conv1(x))\n",
    "        x = self.other_noise(x)\n",
    "        x = F.relu(self.conv2(x))\n",
    "        x = F.max_pool2d(x, 2)\n",
    "        x = self.other_noise(x)\n",
    "        x = F.relu(self.conv3(x))\n",
    "        x = self.other_noise(x)\n",
    "        x = (self.conv4(x))\n",
    "        x = self.bn1(x)\n",
    "        x = F.relu(x)\n",
    "        x = F.max_pool2d(x, 2)\n",
    "        x = self.other_noise(x)\n",
    "        x = F.relu(self.conv5(x))\n",
    "        x = self.other_noise(x)\n",
    "        x = F.relu(self.conv6(x))\n",
    "        x = F.max_pool2d(x, 2)\n",
    "        x = self.other_noise(x)\n",
    "        x = F.relu(self.conv7(x))\n",
    "        x = self.other_noise(x)\n",
    "        x = (self.conv8(x))\n",
    "        x = self.bn2(x)\n",
    "        x = F.relu(x)\n",
    "        x = F.max_pool2d(x, 2)\n",
    "        x = nn.Flatten()(x)\n",
    "        x = self.fc1(x)\n",
    "        x = F.relu(x)\n",
    "        x = self.fc2(x)\n",
    "        return x\n",
    "    \n",
    "    def predict(self,x,n=10):\n",
    "        # n回予測を行い、ensembleした結果を返す\n",
    "        pred = torch.zeros(x.size(0),10).to(device)\n",
    "        for i in range(n):\n",
    "            pred += F.softmax(self.forward(x),dim=1)\n",
    "        pred /= n\n",
    "        return pred.argmax(dim=1)"
   ]
  },
  {
   "cell_type": "code",
   "execution_count": 9,
   "id": "96dea5be",
   "metadata": {
    "execution": {
     "iopub.execute_input": "2022-12-07T00:07:04.125681Z",
     "iopub.status.busy": "2022-12-07T00:07:04.124877Z",
     "iopub.status.idle": "2022-12-07T00:23:36.880052Z",
     "shell.execute_reply": "2022-12-07T00:23:36.879114Z"
    },
    "id": "mGLkDIGC0fJj",
    "outputId": "8808369f-ac32-4942-9973-8ff17a487dfa",
    "papermill": {
     "duration": 992.767432,
     "end_time": "2022-12-07T00:23:36.882768",
     "exception": false,
     "start_time": "2022-12-07T00:07:04.115336",
     "status": "completed"
    },
    "tags": []
   },
   "outputs": [
    {
     "name": "stdout",
     "output_type": "stream",
     "text": [
      "epoch: 1, train_loss: 2.1706, train_acc: 0.1847, val_loss: 1.9378, val_acc: 0.2727\n",
      "epoch: 2, train_loss: 1.8228, train_acc: 0.3213, val_loss: 1.7368, val_acc: 0.3586\n",
      "epoch: 3, train_loss: 1.5993, train_acc: 0.4160, val_loss: 1.5002, val_acc: 0.4579\n",
      "epoch: 4, train_loss: 1.4107, train_acc: 0.4963, val_loss: 1.3716, val_acc: 0.5198\n",
      "epoch: 5, train_loss: 1.2815, train_acc: 0.5504, val_loss: 1.2507, val_acc: 0.5682\n",
      "epoch: 6, train_loss: 1.1706, train_acc: 0.5955, val_loss: 1.1887, val_acc: 0.5975\n",
      "epoch: 7, train_loss: 1.0809, train_acc: 0.6339, val_loss: 1.1039, val_acc: 0.6258\n",
      "epoch: 8, train_loss: 1.0031, train_acc: 0.6671, val_loss: 1.0551, val_acc: 0.6484\n",
      "epoch: 9, train_loss: 0.9379, train_acc: 0.6941, val_loss: 1.0177, val_acc: 0.6662\n",
      "epoch: 10, train_loss: 0.8753, train_acc: 0.7178, val_loss: 0.9940, val_acc: 0.6755\n",
      "epoch: 11, train_loss: 0.8250, train_acc: 0.7390, val_loss: 0.9901, val_acc: 0.6832\n",
      "epoch: 12, train_loss: 0.7640, train_acc: 0.7612, val_loss: 0.9467, val_acc: 0.7022\n",
      "epoch: 13, train_loss: 0.7160, train_acc: 0.7780, val_loss: 0.9520, val_acc: 0.6953\n",
      "epoch: 14, train_loss: 0.6680, train_acc: 0.7976, val_loss: 0.9517, val_acc: 0.7002\n",
      "epoch: 15, train_loss: 0.6152, train_acc: 0.8186, val_loss: 0.9618, val_acc: 0.6994\n",
      "epoch: 16, train_loss: 0.5730, train_acc: 0.8357, val_loss: 0.9362, val_acc: 0.7123\n",
      "epoch: 17, train_loss: 0.5223, train_acc: 0.8534, val_loss: 0.9783, val_acc: 0.7112\n",
      "epoch: 18, train_loss: 0.4855, train_acc: 0.8690, val_loss: 1.0128, val_acc: 0.7021\n",
      "epoch: 19, train_loss: 0.4417, train_acc: 0.8873, val_loss: 1.0274, val_acc: 0.7000\n",
      "epoch: 20, train_loss: 0.3977, train_acc: 0.9033, val_loss: 1.0598, val_acc: 0.6992\n",
      "epoch: 21, train_loss: 0.3634, train_acc: 0.9156, val_loss: 1.0767, val_acc: 0.7054\n",
      "epoch: 22, train_loss: 0.3203, train_acc: 0.9307, val_loss: 1.0591, val_acc: 0.7120\n",
      "epoch: 23, train_loss: 0.2979, train_acc: 0.9369, val_loss: 1.1569, val_acc: 0.6950\n",
      "epoch: 24, train_loss: 0.2564, train_acc: 0.9545, val_loss: 1.1779, val_acc: 0.6997\n",
      "epoch: 25, train_loss: 0.2348, train_acc: 0.9592, val_loss: 1.1644, val_acc: 0.6978\n",
      "epoch: 26, train_loss: 0.2213, train_acc: 0.9618, val_loss: 1.2083, val_acc: 0.7027\n",
      "epoch: 27, train_loss: 0.1868, train_acc: 0.9732, val_loss: 1.1914, val_acc: 0.7051\n",
      "epoch: 28, train_loss: 0.1728, train_acc: 0.9753, val_loss: 1.2983, val_acc: 0.7000\n",
      "epoch: 29, train_loss: 0.1563, train_acc: 0.9786, val_loss: 1.2741, val_acc: 0.6994\n",
      "epoch: 30, train_loss: 0.1447, train_acc: 0.9831, val_loss: 1.3193, val_acc: 0.6999\n",
      "epoch: 31, train_loss: 0.1348, train_acc: 0.9842, val_loss: 1.3165, val_acc: 0.7060\n",
      "epoch: 32, train_loss: 0.1231, train_acc: 0.9871, val_loss: 1.3512, val_acc: 0.6999\n",
      "epoch: 33, train_loss: 0.1088, train_acc: 0.9902, val_loss: 1.4957, val_acc: 0.6903\n",
      "epoch: 34, train_loss: 0.1164, train_acc: 0.9869, val_loss: 1.4155, val_acc: 0.6990\n",
      "epoch: 35, train_loss: 0.0942, train_acc: 0.9925, val_loss: 1.3831, val_acc: 0.7037\n",
      "epoch: 36, train_loss: 0.0907, train_acc: 0.9924, val_loss: 1.4722, val_acc: 0.6961\n",
      "epoch: 37, train_loss: 0.0973, train_acc: 0.9908, val_loss: 1.5080, val_acc: 0.6941\n",
      "epoch: 38, train_loss: 0.0870, train_acc: 0.9929, val_loss: 1.5002, val_acc: 0.6981\n",
      "epoch: 39, train_loss: 0.0845, train_acc: 0.9932, val_loss: 1.4897, val_acc: 0.7008\n",
      "epoch: 40, train_loss: 0.0784, train_acc: 0.9935, val_loss: 1.5820, val_acc: 0.6937\n",
      "Finished RSE model Training\n"
     ]
    },
    {
     "data": {
      "image/png": "[encoded data removed]",
      "text/plain": [
       "<Figure size 432x288 with 1 Axes>"
      ]
     },
     "metadata": {
      "needs_background": "light"
     },
     "output_type": "display_data"
    },
    {
     "data": {
      "image/png": "[encoded data removed]",
      "text/plain": [
       "<Figure size 432x288 with 1 Axes>"
      ]
     },
     "metadata": {
      "needs_background": "light"
     },
     "output_type": "display_data"
    }
   ],
   "source": [
    "rsemodel = RSENet().to(device)\n",
    "criterion = nn.CrossEntropyLoss()\n",
    "optimizer = optim.Adam(rsemodel.parameters(), lr=0.0005)\n",
    "\n",
    "# 学習()\n",
    "\n",
    "train_loss_list = []\n",
    "train_acc_list = []\n",
    "val_loss_list = []\n",
    "val_acc_list = []\n",
    "\n",
    "epochs = 40\n",
    "\n",
    "# 学習\n",
    "for epoch in range(epochs):  # loop over the dataset multiple times\n",
    "\n",
    "    num_train_correct = 0\n",
    "    train_loss = 0.0\n",
    "\n",
    "    for inputs, labels in trainloader:\n",
    "\n",
    "        # gpuを使う場合\n",
    "        inputs, labels = inputs.to(device), labels.to(device)\n",
    "\n",
    "        # zero the parameter gradients\n",
    "        optimizer.zero_grad()\n",
    "\n",
    "        # forward + backward + optimize\n",
    "\n",
    "        outputs = rsemodel(inputs)\n",
    "        loss = criterion(outputs, labels)\n",
    "        loss.backward()\n",
    "\n",
    "        predicted_label = rsemodel.predict(inputs)\n",
    "        num_train_correct += torch.sum(predicted_label == labels).item()\n",
    "        train_loss += loss.item() * inputs.size(0)\n",
    "\n",
    "        optimizer.step()\n",
    "    \n",
    "    train_loss = train_loss / len(trainset)\n",
    "    train_acc = num_train_correct / len(trainset)\n",
    "    train_loss_list.append(train_loss)\n",
    "    train_acc_list.append(train_acc)\n",
    "\n",
    "    num_val_correct = 0\n",
    "    val_loss = 0.0\n",
    "\n",
    "    with torch.no_grad():\n",
    "        for inputs, labels in valloader:\n",
    "\n",
    "            # gpuを使う場合\n",
    "            inputs, labels = inputs.to(device), labels.to(device)\n",
    "\n",
    "            outputs = rsemodel(inputs)\n",
    "            loss = criterion(outputs, labels)\n",
    "\n",
    "            predicted_label = rsemodel.predict(inputs)\n",
    "            num_val_correct += torch.sum(predicted_label == labels).item()\n",
    "            val_loss += loss.item() * inputs.size(0)\n",
    "    \n",
    "    val_loss = val_loss / len(valset)\n",
    "    val_acc = num_val_correct / len(valset)\n",
    "    val_loss_list.append(val_loss)\n",
    "    val_acc_list.append(val_acc)\n",
    "    \n",
    "\n",
    "    print('epoch: {}, train_loss: {:.4f}, train_acc: {:.4f}, val_loss: {:.4f}, val_acc: {:.4f}'.format(epoch+1, train_loss, train_acc, val_loss, val_acc))\n",
    "\n",
    "print('Finished RSE model Training')\n",
    "\n",
    "# lossの推移を可視化\n",
    "plt.plot(train_loss_list, label='train_loss')\n",
    "plt.plot(val_loss_list, label='val_loss')\n",
    "\n",
    "plt.legend()\n",
    "plt.show()\n",
    "\n",
    "# accの推移を可視化\n",
    "plt.plot(train_acc_list, label='train_acc')\n",
    "plt.plot(val_acc_list, label='val_acc')\n",
    "\n",
    "plt.legend()\n",
    "plt.show()\n",
    "    \n",
    "\n",
    "\n",
    "\n"
   ]
  },
  {
   "cell_type": "markdown",
   "id": "0f442757",
   "metadata": {
    "id": "hiUN7xYe8e9r",
    "papermill": {
     "duration": 0.010737,
     "end_time": "2022-12-07T00:23:36.905289",
     "exception": false,
     "start_time": "2022-12-07T00:23:36.894552",
     "status": "completed"
    },
    "tags": []
   },
   "source": [
    "# RSE modelに対する攻撃"
   ]
  },
  {
   "cell_type": "code",
   "execution_count": 10,
   "id": "91558783",
   "metadata": {
    "execution": {
     "iopub.execute_input": "2022-12-07T00:23:36.928266Z",
     "iopub.status.busy": "2022-12-07T00:23:36.927914Z",
     "iopub.status.idle": "2022-12-07T00:23:37.405079Z",
     "shell.execute_reply": "2022-12-07T00:23:37.404191Z"
    },
    "id": "o1tOJOlg0kzG",
    "outputId": "891b2c16-5123-47a0-e166-8624197f70e4",
    "papermill": {
     "duration": 0.491238,
     "end_time": "2022-12-07T00:23:37.407198",
     "exception": false,
     "start_time": "2022-12-07T00:23:36.915960",
     "status": "completed"
    },
    "tags": []
   },
   "outputs": [
    {
     "data": {
      "image/png": "[encoded data removed]",
      "text/plain": [
       "<Figure size 720x720 with 9 Axes>"
      ]
     },
     "metadata": {
      "needs_background": "light"
     },
     "output_type": "display_data"
    }
   ],
   "source": [
    "# FGSMの実行\n",
    "fgsm = FGSM(rsemodel, criterion,0.010)\n",
    "perturbed_inputs = fgsm.generate(inputs, labels)\n",
    "\n",
    "classes = ('plane', 'car', 'bird', 'cat',\n",
    "              'deer', 'dog', 'frog', 'horse', 'ship', 'truck')  \n",
    "\n",
    "# 画像の可視化\n",
    "fig = plt.figure(figsize=(10, 10))\n",
    "for i in range(9):\n",
    "    ax = fig.add_subplot(3, 3, i+1)\n",
    "    ax.imshow(perturbed_inputs[i].cpu().detach().numpy().transpose(1, 2, 0))\n",
    "    # 予測されたラベルを表示\n",
    "    ax.set_title(('predicted: {}'.format(classes[torch.argmax(rsemodel(perturbed_inputs[i].unsqueeze(0).to(device)), dim=1).item()]) +\n",
    "    '\\nlabel: {}'.format(classes[labels[i].item()])))\n",
    "    ax.axis('off')\n",
    "plt.show()"
   ]
  },
  {
   "cell_type": "code",
   "execution_count": 11,
   "id": "64b868e9",
   "metadata": {
    "execution": {
     "iopub.execute_input": "2022-12-07T00:23:37.433838Z",
     "iopub.status.busy": "2022-12-07T00:23:37.432403Z",
     "iopub.status.idle": "2022-12-07T00:23:46.854358Z",
     "shell.execute_reply": "2022-12-07T00:23:46.852977Z"
    },
    "id": "xTweAdeI0k3-",
    "outputId": "1415c210-2814-4b92-8323-380e40c9a087",
    "papermill": {
     "duration": 9.437202,
     "end_time": "2022-12-07T00:23:46.856541",
     "exception": false,
     "start_time": "2022-12-07T00:23:37.419339",
     "status": "completed"
    },
    "tags": []
   },
   "outputs": [
    {
     "name": "stdout",
     "output_type": "stream",
     "text": [
      "adv accuracy: 0.5656\n",
      "normal accuracy: 0.6894\n"
     ]
    }
   ],
   "source": [
    "# fgsmにたいする耐性の評価\n",
    "print('adv accuracy: {:.4f}'.format(fgsm.evaluate(testloader)))\n",
    "\n",
    "# testデータに対する精度の評価\n",
    "num_correct = 0\n",
    "num_total = 0\n",
    "\n",
    "for inputs, labels in testloader:\n",
    "    inputs, labels = inputs.to(device), labels.to(device)\n",
    "    predicted_label = rsemodel.predict(inputs)\n",
    "    num_correct += torch.sum(predicted_label == labels).item()\n",
    "    num_total += len(inputs)\n",
    "\n",
    "print('normal accuracy: {:.4f}'.format(num_correct / num_total))"
   ]
  },
  {
   "cell_type": "markdown",
   "id": "6c27562f",
   "metadata": {
    "id": "8BKD59-SDa2h",
    "papermill": {
     "duration": 0.011929,
     "end_time": "2022-12-07T00:23:46.880953",
     "exception": false,
     "start_time": "2022-12-07T00:23:46.869024",
     "status": "completed"
    },
    "tags": []
   },
   "source": [
    "ensembleしなかったときにどうなるかも気になるな。あとtransformでの変形が0-1になってない。"
   ]
  },
  {
   "cell_type": "code",
   "execution_count": 12,
   "id": "6e7fbb2a",
   "metadata": {
    "execution": {
     "iopub.execute_input": "2022-12-07T00:23:46.907185Z",
     "iopub.status.busy": "2022-12-07T00:23:46.906080Z",
     "iopub.status.idle": "2022-12-07T00:23:47.021387Z",
     "shell.execute_reply": "2022-12-07T00:23:47.020390Z"
    },
    "id": "TTImPCK1Dyby",
    "papermill": {
     "duration": 0.130761,
     "end_time": "2022-12-07T00:23:47.023622",
     "exception": false,
     "start_time": "2022-12-07T00:23:46.892861",
     "status": "completed"
    },
    "tags": []
   },
   "outputs": [
    {
     "data": {
      "text/plain": [
       "RSENet(\n",
       "  (init_noise): NoiseLayer()\n",
       "  (other_noise): NoiseLayer()\n",
       "  (conv1): Conv2d(3, 32, kernel_size=(3, 3), stride=(1, 1), padding=same)\n",
       "  (conv2): Conv2d(32, 32, kernel_size=(3, 3), stride=(1, 1), padding=same)\n",
       "  (conv3): Conv2d(32, 64, kernel_size=(3, 3), stride=(1, 1), padding=same)\n",
       "  (conv4): Conv2d(64, 64, kernel_size=(3, 3), stride=(1, 1), padding=same)\n",
       "  (bn1): BatchNorm2d(64, eps=1e-05, momentum=0.1, affine=True, track_running_stats=True)\n",
       "  (conv5): Conv2d(64, 128, kernel_size=(3, 3), stride=(1, 1), padding=same)\n",
       "  (conv6): Conv2d(128, 128, kernel_size=(3, 3), stride=(1, 1), padding=same)\n",
       "  (conv7): Conv2d(128, 256, kernel_size=(3, 3), stride=(1, 1), padding=same)\n",
       "  (conv8): Conv2d(256, 512, kernel_size=(3, 3), stride=(1, 1), padding=same)\n",
       "  (bn2): BatchNorm2d(512, eps=1e-05, momentum=0.1, affine=True, track_running_stats=True)\n",
       "  (fc1): Linear(in_features=2048, out_features=512, bias=True)\n",
       "  (fc2): Linear(in_features=512, out_features=10, bias=True)\n",
       ")"
      ]
     },
     "execution_count": 12,
     "metadata": {},
     "output_type": "execute_result"
    }
   ],
   "source": [
    "# save models\n",
    "torch.save(model.to(\"cpu\").state_dict(), 'model3.pth')\n",
    "torch.save(rsemodel.to(\"cpu\").state_dict(), 'rsemodel3.pth')\n",
    "\n",
    "# load models\n",
    "model.load_state_dict(torch.load('model3.pth'))\n",
    "rsemodel.load_state_dict(torch.load('rsemodel3.pth'))\n",
    "\n",
    "model.to(device)\n",
    "rsemodel.to(device)"
   ]
  },
  {
   "cell_type": "code",
   "execution_count": 13,
   "id": "98415831",
   "metadata": {
    "execution": {
     "iopub.execute_input": "2022-12-07T00:23:47.049216Z",
     "iopub.status.busy": "2022-12-07T00:23:47.048901Z",
     "iopub.status.idle": "2022-12-07T00:25:15.388364Z",
     "shell.execute_reply": "2022-12-07T00:25:15.387007Z"
    },
    "papermill": {
     "duration": 88.355382,
     "end_time": "2022-12-07T00:25:15.391065",
     "exception": false,
     "start_time": "2022-12-07T00:23:47.035683",
     "status": "completed"
    },
    "tags": []
   },
   "outputs": [
    {
     "name": "stderr",
     "output_type": "stream",
     "text": [
      "100%|██████████| 7/7 [00:13<00:00,  1.89s/it]\n"
     ]
    },
    {
     "name": "stdout",
     "output_type": "stream",
     "text": [
      "model: [0.7953, 0.5661, 0.3184, 0.1985, 0.1531, 0.1251, 0.112]\n"
     ]
    },
    {
     "name": "stderr",
     "output_type": "stream",
     "text": [
      "100%|██████████| 7/7 [00:14<00:00,  2.06s/it]\n",
      "100%|██████████| 7/7 [00:23<00:00,  3.40s/it]\n",
      "100%|██████████| 7/7 [00:36<00:00,  5.27s/it]"
     ]
    },
    {
     "name": "stdout",
     "output_type": "stream",
     "text": [
      "rsemodel: {1: [0.6724, 0.5575, 0.4187, 0.364, 0.3004, 0.2413, 0.2013], 5: [0.6818, 0.5637, 0.4221, 0.365, 0.3237, 0.2444, 0.204], 10: [0.6882, 0.5645, 0.4198, 0.3712, 0.3236, 0.2528, 0.2075]}\n"
     ]
    },
    {
     "name": "stderr",
     "output_type": "stream",
     "text": [
      "\n"
     ]
    }
   ],
   "source": [
    "# calc accuracy under FGSM for each epcilon\n",
    "epsilons = [0, 0.01, 0.03, 0.05, 0.07, 0.1,0.12]\n",
    "accuracies = []\n",
    "\n",
    "from tqdm import tqdm\n",
    "\n",
    "for eps in tqdm(epsilons):\n",
    "    fgsm = FGSM(model, criterion, eps)\n",
    "    acc = fgsm.evaluate(testloader)\n",
    "    accuracies.append(acc)\n",
    "\n",
    "print(\"model:\",accuracies)\n",
    "\n",
    "#rsemodelに対する精度の評価\n",
    "\n",
    "epsilons = [0, 0.01, 0.03, 0.05, 0.07, 0.1,0.12]\n",
    "rse_accuracies = {\n",
    "    1 : [],\n",
    "    5 : [],\n",
    "    10 : [],\n",
    "}\n",
    "\n",
    "for n in rse_accuracies.keys():\n",
    "    for eps in tqdm(epsilons):\n",
    "        fgsm = FGSM(rsemodel, criterion, eps)\n",
    "        acc = fgsm.evaluate(testloader,n)\n",
    "        rse_accuracies[n].append(acc)\n",
    "    \n",
    "print(\"rsemodel:\",rse_accuracies)\n"
   ]
  },
  {
   "cell_type": "code",
   "execution_count": 14,
   "id": "938a9216",
   "metadata": {
    "execution": {
     "iopub.execute_input": "2022-12-07T00:25:15.420865Z",
     "iopub.status.busy": "2022-12-07T00:25:15.420547Z",
     "iopub.status.idle": "2022-12-07T00:25:15.645389Z",
     "shell.execute_reply": "2022-12-07T00:25:15.644488Z"
    },
    "papermill": {
     "duration": 0.242265,
     "end_time": "2022-12-07T00:25:15.647554",
     "exception": false,
     "start_time": "2022-12-07T00:25:15.405289",
     "status": "completed"
    },
    "tags": []
   },
   "outputs": [
    {
     "data": {
      "image/png": "[encoded data removed]",
      "text/plain": [
       "<Figure size 432x288 with 1 Axes>"
      ]
     },
     "metadata": {
      "needs_background": "light"
     },
     "output_type": "display_data"
    }
   ],
   "source": [
    "# 可視化\n",
    "plt.plot(epsilons, accuracies, label='model')\n",
    "for n in rse_accuracies.keys(): \n",
    "    plt.plot(epsilons, rse_accuracies[n], label=f'rsemodel:ensemble{n}')\n",
    "plt.legend()\n",
    "plt.xlabel('epsilon(param for FGSM)')\n",
    "plt.ylabel('accuracy for adversarial examples')\n",
    "plt.show()"
   ]
  },
  {
   "cell_type": "code",
   "execution_count": null,
   "id": "13b20984",
   "metadata": {
    "papermill": {
     "duration": 0.014273,
     "end_time": "2022-12-07T00:25:15.676649",
     "exception": false,
     "start_time": "2022-12-07T00:25:15.662376",
     "status": "completed"
    },
    "tags": []
   },
   "outputs": [],
   "source": []
  }
 ],
 "metadata": {
  "kernelspec": {
   "display_name": "Python 3",
   "language": "python",
   "name": "python3"
  },
  "language_info": {
   "codemirror_mode": {
    "name": "ipython",
    "version": 3
   },
   "file_extension": ".py",
   "mimetype": "text/x-python",
   "name": "python",
   "nbconvert_exporter": "python",
   "pygments_lexer": "ipython3",
   "version": "3.7.12"
  },
  "papermill": {
   "default_parameters": {},
   "duration": 1447.601489,
   "end_time": "2022-12-07T00:25:17.318000",
   "environment_variables": {},
   "exception": null,
   "input_path": "__notebook__.ipynb",
   "output_path": "__notebook__.ipynb",
   "parameters": {},
   "start_time": "2022-12-07T00:01:09.716511",
   "version": "2.3.4"
  },
  "widgets": {
   "application/vnd.jupyter.widget-state+json": {
    "state": {
     "00c40042274b4ed6ac8b31fdd71fb47e": {
      "model_module": "@jupyter-widgets/controls",
      "model_module_version": "1.5.0",
      "model_name": "FloatProgressModel",
      "state": {
       "_dom_classes": [],
       "_model_module": "@jupyter-widgets/controls",
       "_model_module_version": "1.5.0",
       "_model_name": "FloatProgressModel",
       "_view_count": null,
       "_view_module": "@jupyter-widgets/controls",
       "_view_module_version": "1.5.0",
       "_view_name": "ProgressView",
       "bar_style": "success",
       "description": "",
       "description_tooltip": null,
       "layout": "IPY_MODEL_e31abe3fc8a64d048133490eb9d70e37",
       "max": 170498071.0,
       "min": 0.0,
       "orientation": "horizontal",
       "style": "IPY_MODEL_b9c31cb1448541eab21546887b5c30c8",
       "value": 170498071.0
      }
     },
     "06a70553fdea4bff935438d505feb088": {
      "model_module": "@jupyter-widgets/controls",
      "model_module_version": "1.5.0",
      "model_name": "DescriptionStyleModel",
      "state": {
       "_model_module": "@jupyter-widgets/controls",
       "_model_module_version": "1.5.0",
       "_model_name": "DescriptionStyleModel",
       "_view_count": null,
       "_view_module": "@jupyter-widgets/base",
       "_view_module_version": "1.2.0",
       "_view_name": "StyleView",
       "description_width": ""
      }
     },
     "3339373bb8514ecb8cf57ce951dce45e": {
      "model_module": "@jupyter-widgets/controls",
      "model_module_version": "1.5.0",
      "model_name": "HTMLModel",
      "state": {
       "_dom_classes": [],
       "_model_module": "@jupyter-widgets/controls",
       "_model_module_version": "1.5.0",
       "_model_name": "HTMLModel",
       "_view_count": null,
       "_view_module": "@jupyter-widgets/controls",
       "_view_module_version": "1.5.0",
       "_view_name": "HTMLView",
       "description": "",
       "description_tooltip": null,
       "layout": "IPY_MODEL_b419f551ad734d2db18f582ffdb063f4",
       "placeholder": "​",
       "style": "IPY_MODEL_06a70553fdea4bff935438d505feb088",
       "value": " 170499072/? [00:03&lt;00:00, 53952393.44it/s]"
      }
     },
     "5e116ecb207f4495aa79a3b360734157": {
      "model_module": "@jupyter-widgets/controls",
      "model_module_version": "1.5.0",
      "model_name": "HTMLModel",
      "state": {
       "_dom_classes": [],
       "_model_module": "@jupyter-widgets/controls",
       "_model_module_version": "1.5.0",
       "_model_name": "HTMLModel",
       "_view_count": null,
       "_view_module": "@jupyter-widgets/controls",
       "_view_module_version": "1.5.0",
       "_view_name": "HTMLView",
       "description": "",
       "description_tooltip": null,
       "layout": "IPY_MODEL_7bdff498fccf425f9ca5bd23e0e5a615",
       "placeholder": "​",
       "style": "IPY_MODEL_aa201fdea38f4da688ea84972ae2b40a",
       "value": ""
      }
     },
     "7bdff498fccf425f9ca5bd23e0e5a615": {
      "model_module": "@jupyter-widgets/base",
      "model_module_version": "1.2.0",
      "model_name": "LayoutModel",
      "state": {
       "_model_module": "@jupyter-widgets/base",
       "_model_module_version": "1.2.0",
       "_model_name": "LayoutModel",
       "_view_count": null,
       "_view_module": "@jupyter-widgets/base",
       "_view_module_version": "1.2.0",
       "_view_name": "LayoutView",
       "align_content": null,
       "align_items": null,
       "align_self": null,
       "border": null,
       "bottom": null,
       "display": null,
       "flex": null,
       "flex_flow": null,
       "grid_area": null,
       "grid_auto_columns": null,
       "grid_auto_flow": null,
       "grid_auto_rows": null,
       "grid_column": null,
       "grid_gap": null,
       "grid_row": null,
       "grid_template_areas": null,
       "grid_template_columns": null,
       "grid_template_rows": null,
       "height": null,
       "justify_content": null,
       "justify_items": null,
       "left": null,
       "margin": null,
       "max_height": null,
       "max_width": null,
       "min_height": null,
       "min_width": null,
       "object_fit": null,
       "object_position": null,
       "order": null,
       "overflow": null,
       "overflow_x": null,
       "overflow_y": null,
       "padding": null,
       "right": null,
       "top": null,
       "visibility": null,
       "width": null
      }
     },
     "aa201fdea38f4da688ea84972ae2b40a": {
      "model_module": "@jupyter-widgets/controls",
      "model_module_version": "1.5.0",
      "model_name": "DescriptionStyleModel",
      "state": {
       "_model_module": "@jupyter-widgets/controls",
       "_model_module_version": "1.5.0",
       "_model_name": "DescriptionStyleModel",
       "_view_count": null,
       "_view_module": "@jupyter-widgets/base",
       "_view_module_version": "1.2.0",
       "_view_name": "StyleView",
       "description_width": ""
      }
     },
     "b3a5d3ef8010449699d7ed0fff599a50": {
      "model_module": "@jupyter-widgets/base",
      "model_module_version": "1.2.0",
      "model_name": "LayoutModel",
      "state": {
       "_model_module": "@jupyter-widgets/base",
       "_model_module_version": "1.2.0",
       "_model_name": "LayoutModel",
       "_view_count": null,
       "_view_module": "@jupyter-widgets/base",
       "_view_module_version": "1.2.0",
       "_view_name": "LayoutView",
       "align_content": null,
       "align_items": null,
       "align_self": null,
       "border": null,
       "bottom": null,
       "display": null,
       "flex": null,
       "flex_flow": null,
       "grid_area": null,
       "grid_auto_columns": null,
       "grid_auto_flow": null,
       "grid_auto_rows": null,
       "grid_column": null,
       "grid_gap": null,
       "grid_row": null,
       "grid_template_areas": null,
       "grid_template_columns": null,
       "grid_template_rows": null,
       "height": null,
       "justify_content": null,
       "justify_items": null,
       "left": null,
       "margin": null,
       "max_height": null,
       "max_width": null,
       "min_height": null,
       "min_width": null,
       "object_fit": null,
       "object_position": null,
       "order": null,
       "overflow": null,
       "overflow_x": null,
       "overflow_y": null,
       "padding": null,
       "right": null,
       "top": null,
       "visibility": null,
       "width": null
      }
     },
     "b419f551ad734d2db18f582ffdb063f4": {
      "model_module": "@jupyter-widgets/base",
      "model_module_version": "1.2.0",
      "model_name": "LayoutModel",
      "state": {
       "_model_module": "@jupyter-widgets/base",
       "_model_module_version": "1.2.0",
       "_model_name": "LayoutModel",
       "_view_count": null,
       "_view_module": "@jupyter-widgets/base",
       "_view_module_version": "1.2.0",
       "_view_name": "LayoutView",
       "align_content": null,
       "align_items": null,
       "align_self": null,
       "border": null,
       "bottom": null,
       "display": null,
       "flex": null,
       "flex_flow": null,
       "grid_area": null,
       "grid_auto_columns": null,
       "grid_auto_flow": null,
       "grid_auto_rows": null,
       "grid_column": null,
       "grid_gap": null,
       "grid_row": null,
       "grid_template_areas": null,
       "grid_template_columns": null,
       "grid_template_rows": null,
       "height": null,
       "justify_content": null,
       "justify_items": null,
       "left": null,
       "margin": null,
       "max_height": null,
       "max_width": null,
       "min_height": null,
       "min_width": null,
       "object_fit": null,
       "object_position": null,
       "order": null,
       "overflow": null,
       "overflow_x": null,
       "overflow_y": null,
       "padding": null,
       "right": null,
       "top": null,
       "visibility": null,
       "width": null
      }
     },
     "b9c31cb1448541eab21546887b5c30c8": {
      "model_module": "@jupyter-widgets/controls",
      "model_module_version": "1.5.0",
      "model_name": "ProgressStyleModel",
      "state": {
       "_model_module": "@jupyter-widgets/controls",
       "_model_module_version": "1.5.0",
       "_model_name": "ProgressStyleModel",
       "_view_count": null,
       "_view_module": "@jupyter-widgets/base",
       "_view_module_version": "1.2.0",
       "_view_name": "StyleView",
       "bar_color": null,
       "description_width": ""
      }
     },
     "cd47fc3d1f604c5598bb69c31039e3e5": {
      "model_module": "@jupyter-widgets/controls",
      "model_module_version": "1.5.0",
      "model_name": "HBoxModel",
      "state": {
       "_dom_classes": [],
       "_model_module": "@jupyter-widgets/controls",
       "_model_module_version": "1.5.0",
       "_model_name": "HBoxModel",
       "_view_count": null,
       "_view_module": "@jupyter-widgets/controls",
       "_view_module_version": "1.5.0",
       "_view_name": "HBoxView",
       "box_style": "",
       "children": [
        "IPY_MODEL_5e116ecb207f4495aa79a3b360734157",
        "IPY_MODEL_00c40042274b4ed6ac8b31fdd71fb47e",
        "IPY_MODEL_3339373bb8514ecb8cf57ce951dce45e"
       ],
       "layout": "IPY_MODEL_b3a5d3ef8010449699d7ed0fff599a50"
      }
     },
     "e31abe3fc8a64d048133490eb9d70e37": {
      "model_module": "@jupyter-widgets/base",
      "model_module_version": "1.2.0",
      "model_name": "LayoutModel",
      "state": {
       "_model_module": "@jupyter-widgets/base",
       "_model_module_version": "1.2.0",
       "_model_name": "LayoutModel",
       "_view_count": null,
       "_view_module": "@jupyter-widgets/base",
       "_view_module_version": "1.2.0",
       "_view_name": "LayoutView",
       "align_content": null,
       "align_items": null,
       "align_self": null,
       "border": null,
       "bottom": null,
       "display": null,
       "flex": null,
       "flex_flow": null,
       "grid_area": null,
       "grid_auto_columns": null,
       "grid_auto_flow": null,
       "grid_auto_rows": null,
       "grid_column": null,
       "grid_gap": null,
       "grid_row": null,
       "grid_template_areas": null,
       "grid_template_columns": null,
       "grid_template_rows": null,
       "height": null,
       "justify_content": null,
       "justify_items": null,
       "left": null,
       "margin": null,
       "max_height": null,
       "max_width": null,
       "min_height": null,
       "min_width": null,
       "object_fit": null,
       "object_position": null,
       "order": null,
       "overflow": null,
       "overflow_x": null,
       "overflow_y": null,
       "padding": null,
       "right": null,
       "top": null,
       "visibility": null,
       "width": null
      }
     }
    },
    "version_major": 2,
    "version_minor": 0
   }
  }
 },
 "nbformat": 4,
 "nbformat_minor": 5
}
